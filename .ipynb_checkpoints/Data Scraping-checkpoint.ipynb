{
 "cells": [
  {
   "cell_type": "code",
   "execution_count": 243,
   "metadata": {
    "scrolled": true
   },
   "outputs": [],
   "source": [
    "from pymongo import MongoClient\n",
    "import json\n",
    "import requests\n",
    "import urllib\n",
    "from bs4 import BeautifulSoup\n",
    "import os\n",
    "import xml.etree.ElementTree as ET\n",
    "import time"
   ]
  },
  {
   "cell_type": "markdown",
   "metadata": {},
   "source": [
    "Setup Mongo Client to store everything"
   ]
  },
  {
   "cell_type": "code",
   "execution_count": 260,
   "metadata": {
    "scrolled": true
   },
   "outputs": [],
   "source": [
    "client = MongoClient('localhost', 27017)\n",
    "# Access/Initiate Database\n",
    "db = client['GoodReads']\n",
    "# Access/Initiate Collection\n",
    "test_collection = db['test_1']\n",
    "book_collection = db['Books']\n",
    "author_collection = db['Authors']\n",
    "author_list_collection= db['Authors_List']"
   ]
  },
  {
   "cell_type": "code",
   "execution_count": 91,
   "metadata": {
    "scrolled": true
   },
   "outputs": [
    {
     "data": {
      "text/plain": [
       "<pymongo.results.InsertOneResult at 0x7f4b565aed70>"
      ]
     },
     "execution_count": 91,
     "metadata": {},
     "output_type": "execute_result"
    }
   ],
   "source": [
    "test_collection.insert_one({'aa': 'bb'})"
   ]
  },
  {
   "cell_type": "markdown",
   "metadata": {},
   "source": [
    "Some helper stuff for when we start scraping"
   ]
  },
  {
   "cell_type": "code",
   "execution_count": 3,
   "metadata": {
    "scrolled": true
   },
   "outputs": [],
   "source": [
    "def single_query(link, payload):\n",
    "    response = requests.get(link, params=payload)\n",
    "    if response.status_code != 200:\n",
    "        print('WARNING', response.status_code)\n",
    "    else:\n",
    "        return response"
   ]
  },
  {
   "cell_type": "code",
   "execution_count": 178,
   "metadata": {
    "scrolled": false
   },
   "outputs": [],
   "source": [
    "bookSearchURL = 'https://www.goodreads.com/search/index.xml'\n",
    "bookSearchPayload = {\n",
    "    'q': 'Brandon Sanderson',\n",
    "    'page': 1,\n",
    "    'key': 'your key'\n",
    "    'search': 'author'\n",
    "}"
   ]
  },
  {
   "cell_type": "code",
   "execution_count": null,
   "metadata": {
    "scrolled": false
   },
   "outputs": [],
   "source": [
    "#print(single_query(bookSearchURL, bookSearchPayload).text)"
   ]
  },
  {
   "cell_type": "markdown",
   "metadata": {},
   "source": [
    "Goodreads doesn't have a master list of books nor does it allow you to search lists of books. The web browser also doesn't allow you to access more than 25 of any list or shelf in a web browser, so its not possible to directly use the API to get what we want. So we have to use a workaround."
   ]
  },
  {
   "cell_type": "markdown",
   "metadata": {},
   "source": [
    "Plan A:\n",
    "use wikipedia to get a master list of authors\n",
    "search each author one by one to get a list of books\n",
    "from a list of books, get their reviews and the data we're interested in.\n",
    "\n",
    "Plan B:\n",
    "Search through a list of genres"
   ]
  },
  {
   "cell_type": "markdown",
   "metadata": {},
   "source": [
    "# Getting Authors"
   ]
  },
  {
   "cell_type": "code",
   "execution_count": 165,
   "metadata": {
    "scrolled": true
   },
   "outputs": [],
   "source": [
    "author_list_base = 'https://en.wikipedia.org/wiki/List_of_authors_by_name:_'\n",
    "letters = 'ABCDEFGHIJKLMNOPQRSTUVWXYZ'\n",
    "completed = []"
   ]
  },
  {
   "cell_type": "code",
   "execution_count": 95,
   "metadata": {
    "scrolled": true
   },
   "outputs": [],
   "source": [
    "completed = []"
   ]
  },
  {
   "cell_type": "code",
   "execution_count": null,
   "metadata": {
    "scrolled": true
   },
   "outputs": [],
   "source": [
    "for c in letters:\n",
    "    print(c)\n",
    "    if c not in completed:\n",
    "        response = requests.get(author_list_base+c)\n",
    "        author_collection.insert_one({'id': c, 'val': response})\n",
    "        completed.append(c)"
   ]
  },
  {
   "cell_type": "code",
   "execution_count": 175,
   "metadata": {
    "scrolled": true
   },
   "outputs": [],
   "source": [
    "final_list = []\n",
    "for c in letters:\n",
    "    resp = author_collection.find({c: {'$exists' : 'true'}})\n",
    "    for a in resp:\n",
    "        \n",
    "        dirty_text = parse_wiki_response(str(a))\n",
    "        clean_text = list(map(clean_wiki_response, dirty_text))\n",
    "        final_list = final_list + clean_text\n",
    "\n",
    "for author in final_list:\n",
    "    author_list_collection.insert_one({'id': author})"
   ]
  },
  {
   "cell_type": "code",
   "execution_count": 172,
   "metadata": {
    "scrolled": true
   },
   "outputs": [],
   "source": [
    "def parse_wiki_response(response):\n",
    "    #given a wiki response on the list of authors, return a list containing the authors in that wikipedia page\n",
    "    soup = BeautifulSoup(response, 'html')\n",
    "    started = False\n",
    "    result = []\n",
    "    for link in soup.find_all('a'):\n",
    "        val = link.get('title')\n",
    "        if val != None and len(val) >= 4 and (val[0:4] == 'Edit' or val[0:4] == 'List') :\n",
    "            started = True\n",
    "        elif started and val != None:\n",
    "            if len(val) >= 8 and val[0:8] == 'Template':\n",
    "                return result\n",
    "            result.append(val)\n",
    "            \n",
    "        "
   ]
  },
  {
   "cell_type": "code",
   "execution_count": 153,
   "metadata": {
    "scrolled": true
   },
   "outputs": [
    {
     "name": "stdout",
     "output_type": "stream",
     "text": [
      "['Rachel Zadok', 'Carlos Ruiz Zafón', 'Timothy Zahn', 'Janusz A. Zajdel', 'Yevgeny Zamyatin', 'Jessica Zafra', 'George Zebrowski', 'Roger Zelazny', 'Robert Zend', 'Sarah Zettel', 'Rafał A. Ziemkiewicz', 'Aleksandar Ziljak', 'Richard Zimler', 'David Zindell', 'Émile Zola', 'Charlotte Zolotow', 'Markus Zusak', 'Stefan Zweig', 'Eugeniusz Zytomirski']\n"
     ]
    }
   ],
   "source": [
    "print(parse_wiki_response(response.text))"
   ]
  },
  {
   "cell_type": "code",
   "execution_count": 77,
   "metadata": {
    "scrolled": true
   },
   "outputs": [],
   "source": [
    "def clean_wiki_response(name):\n",
    "    return name.split('(')[0]"
   ]
  },
  {
   "cell_type": "markdown",
   "metadata": {},
   "source": [
    "# Getting Books"
   ]
  },
  {
   "cell_type": "code",
   "execution_count": 261,
   "metadata": {
    "scrolled": true
   },
   "outputs": [],
   "source": [
    "def scrape_data(author_list):\n",
    "    i = 0\n",
    "    j = 0\n",
    "    for author in author_list:\n",
    "        i += 1\n",
    "        if i % 99 == 0:\n",
    "            print(i)\n",
    "        running = True\n",
    "        pageNum = 1\n",
    "        bookSearchPayload['q'] = author\n",
    "        while(running):\n",
    "            time.sleep(1)\n",
    "            bookSearchPayload['page'] = pageNum\n",
    "            response = single_query(bookSearchURL, bookSearchPayload)\n",
    "            root = ET.fromstring(a)\n",
    "            search = root.findall('./search/results/work/id')\n",
    "            if len(search) == 0:\n",
    "                running = False\n",
    "            else:\n",
    "                for child in root.findall('./search/results/work/id'):\n",
    "                    j += 1\n",
    "                    if j % 999 == 0:\n",
    "                        print(j, i)\n",
    "                    book_collection.update_one({'id': child.text}, {'id': child.text}, upsert = True)\n",
    "                pageNum += 1\n",
    "        "
   ]
  },
  {
   "cell_type": "code",
   "execution_count": 265,
   "metadata": {
    "scrolled": true
   },
   "outputs": [
    {
     "ename": "NameError",
     "evalue": "name 'i' is not defined",
     "output_type": "error",
     "traceback": [
      "\u001b[0;31m---------------------------------------------------------------------------\u001b[0m",
      "\u001b[0;31mNameError\u001b[0m                                 Traceback (most recent call last)",
      "\u001b[0;32m<ipython-input-265-3b184248ad5a>\u001b[0m in \u001b[0;36m<module>\u001b[0;34m\u001b[0m\n\u001b[0;32m----> 1\u001b[0;31m \u001b[0mprint\u001b[0m\u001b[0;34m(\u001b[0m\u001b[0mi\u001b[0m\u001b[0;34m)\u001b[0m\u001b[0;34m\u001b[0m\u001b[0;34m\u001b[0m\u001b[0m\n\u001b[0m",
      "\u001b[0;31mNameError\u001b[0m: name 'i' is not defined"
     ]
    }
   ],
   "source": [
    "print(i)"
   ]
  },
  {
   "cell_type": "code",
   "execution_count": 262,
   "metadata": {
    "scrolled": true
   },
   "outputs": [
    {
     "name": "stdout",
     "output_type": "stream",
     "text": [
      "999\n",
      "1998\n",
      "2997\n",
      "3996\n",
      "4995\n",
      "5994\n",
      "6993\n",
      "7992\n",
      "8991\n",
      "9990\n",
      "10989\n",
      "11988\n",
      "12987\n",
      "13986\n",
      "14985\n",
      "15984\n",
      "16983\n",
      "17982\n",
      "18981\n",
      "19980\n",
      "20979\n",
      "21978\n"
     ]
    },
    {
     "ename": "KeyboardInterrupt",
     "evalue": "",
     "output_type": "error",
     "traceback": [
      "\u001b[0;31m---------------------------------------------------------------------------\u001b[0m",
      "\u001b[0;31mKeyboardInterrupt\u001b[0m                         Traceback (most recent call last)",
      "\u001b[0;32m<ipython-input-262-b8e470a79968>\u001b[0m in \u001b[0;36m<module>\u001b[0;34m\u001b[0m\n\u001b[0;32m----> 1\u001b[0;31m \u001b[0mscrape_data\u001b[0m\u001b[0;34m(\u001b[0m\u001b[0mfinal_list\u001b[0m\u001b[0;34m)\u001b[0m\u001b[0;34m\u001b[0m\u001b[0;34m\u001b[0m\u001b[0m\n\u001b[0m",
      "\u001b[0;32m<ipython-input-261-9c5676577491>\u001b[0m in \u001b[0;36mscrape_data\u001b[0;34m(author_list)\u001b[0m\n\u001b[1;32m     10\u001b[0m         \u001b[0mbookSearchPayload\u001b[0m\u001b[0;34m[\u001b[0m\u001b[0;34m'q'\u001b[0m\u001b[0;34m]\u001b[0m \u001b[0;34m=\u001b[0m \u001b[0mauthor\u001b[0m\u001b[0;34m\u001b[0m\u001b[0;34m\u001b[0m\u001b[0m\n\u001b[1;32m     11\u001b[0m         \u001b[0;32mwhile\u001b[0m\u001b[0;34m(\u001b[0m\u001b[0mrunning\u001b[0m\u001b[0;34m)\u001b[0m\u001b[0;34m:\u001b[0m\u001b[0;34m\u001b[0m\u001b[0;34m\u001b[0m\u001b[0m\n\u001b[0;32m---> 12\u001b[0;31m             \u001b[0mtime\u001b[0m\u001b[0;34m.\u001b[0m\u001b[0msleep\u001b[0m\u001b[0;34m(\u001b[0m\u001b[0;36m1\u001b[0m\u001b[0;34m)\u001b[0m\u001b[0;34m\u001b[0m\u001b[0;34m\u001b[0m\u001b[0m\n\u001b[0m\u001b[1;32m     13\u001b[0m             \u001b[0mbookSearchPayload\u001b[0m\u001b[0;34m[\u001b[0m\u001b[0;34m'page'\u001b[0m\u001b[0;34m]\u001b[0m \u001b[0;34m=\u001b[0m \u001b[0mpageNum\u001b[0m\u001b[0;34m\u001b[0m\u001b[0;34m\u001b[0m\u001b[0m\n\u001b[1;32m     14\u001b[0m             \u001b[0mresponse\u001b[0m \u001b[0;34m=\u001b[0m \u001b[0msingle_query\u001b[0m\u001b[0;34m(\u001b[0m\u001b[0mbookSearchURL\u001b[0m\u001b[0;34m,\u001b[0m \u001b[0mbookSearchPayload\u001b[0m\u001b[0;34m)\u001b[0m\u001b[0;34m\u001b[0m\u001b[0;34m\u001b[0m\u001b[0m\n",
      "\u001b[0;31mKeyboardInterrupt\u001b[0m: "
     ]
    }
   ],
   "source": [
    "scrape_data(final_list)"
   ]
  },
  {
   "cell_type": "code",
   "execution_count": 193,
   "metadata": {
    "scrolled": true
   },
   "outputs": [],
   "source": [
    "root = ET.fromstring(a)"
   ]
  },
  {
   "cell_type": "code",
   "execution_count": 194,
   "metadata": {
    "scrolled": true
   },
   "outputs": [
    {
     "data": {
      "text/plain": [
       "'GoodreadsResponse'"
      ]
     },
     "execution_count": 194,
     "metadata": {},
     "output_type": "execute_result"
    }
   ],
   "source": [
    "root.tag"
   ]
  },
  {
   "cell_type": "code",
   "execution_count": 196,
   "metadata": {
    "scrolled": true
   },
   "outputs": [
    {
     "data": {
      "text/plain": [
       "{}"
      ]
     },
     "execution_count": 196,
     "metadata": {},
     "output_type": "execute_result"
    }
   ],
   "source": [
    "root.attrib"
   ]
  },
  {
   "cell_type": "code",
   "execution_count": 272,
   "metadata": {
    "scrolled": true
   },
   "outputs": [
    {
     "name": "stdout",
     "output_type": "stream",
     "text": [
      "<Element 'id' at 0x7f4b5466a6b0>\n",
      "<Element 'books_count' at 0x7f4b5466a710>\n",
      "<Element 'ratings_count' at 0x7f4b5466a770>\n",
      "<Element 'text_reviews_count' at 0x7f4b5466a7d0>\n",
      "<Element 'original_publication_year' at 0x7f4b5466a830>\n",
      "<Element 'original_publication_month' at 0x7f4b5466a890>\n",
      "<Element 'original_publication_day' at 0x7f4b5466a8f0>\n",
      "<Element 'average_rating' at 0x7f4b5466a950>\n",
      "<Element 'best_book' at 0x7f4b5466a9b0>\n",
      "<Element 'id' at 0x7f4b5466add0>\n",
      "<Element 'books_count' at 0x7f4b5466ae30>\n",
      "<Element 'ratings_count' at 0x7f4b5466ae90>\n",
      "<Element 'text_reviews_count' at 0x7f4b5466aef0>\n",
      "<Element 'original_publication_year' at 0x7f4b5466af50>\n",
      "<Element 'original_publication_month' at 0x7f4b5466afb0>\n",
      "<Element 'original_publication_day' at 0x7f4b5463e050>\n",
      "<Element 'average_rating' at 0x7f4b5463e0b0>\n",
      "<Element 'best_book' at 0x7f4b5463e110>\n",
      "<Element 'id' at 0x7f4b5463e470>\n",
      "<Element 'books_count' at 0x7f4b5463e4d0>\n",
      "<Element 'ratings_count' at 0x7f4b5463e530>\n",
      "<Element 'text_reviews_count' at 0x7f4b5463e590>\n",
      "<Element 'original_publication_year' at 0x7f4b5463e5f0>\n",
      "<Element 'original_publication_month' at 0x7f4b5463e650>\n",
      "<Element 'original_publication_day' at 0x7f4b5463e6b0>\n",
      "<Element 'average_rating' at 0x7f4b5463e710>\n",
      "<Element 'best_book' at 0x7f4b5463e770>\n",
      "<Element 'id' at 0x7f4b5463eb30>\n",
      "<Element 'books_count' at 0x7f4b5463eb90>\n",
      "<Element 'ratings_count' at 0x7f4b5463ebf0>\n",
      "<Element 'text_reviews_count' at 0x7f4b5463ec50>\n",
      "<Element 'original_publication_year' at 0x7f4b5463ecb0>\n",
      "<Element 'original_publication_month' at 0x7f4b5463ed10>\n",
      "<Element 'original_publication_day' at 0x7f4b5463ed70>\n",
      "<Element 'average_rating' at 0x7f4b5463edd0>\n",
      "<Element 'best_book' at 0x7f4b5463ee30>\n",
      "<Element 'id' at 0x7f4b54663230>\n",
      "<Element 'books_count' at 0x7f4b54663290>\n",
      "<Element 'ratings_count' at 0x7f4b546632f0>\n",
      "<Element 'text_reviews_count' at 0x7f4b54663350>\n",
      "<Element 'original_publication_year' at 0x7f4b546633b0>\n",
      "<Element 'original_publication_month' at 0x7f4b54663410>\n",
      "<Element 'original_publication_day' at 0x7f4b54663470>\n",
      "<Element 'average_rating' at 0x7f4b546634d0>\n",
      "<Element 'best_book' at 0x7f4b54663530>\n",
      "<Element 'id' at 0x7f4b54663890>\n",
      "<Element 'books_count' at 0x7f4b546638f0>\n",
      "<Element 'ratings_count' at 0x7f4b54663950>\n",
      "<Element 'text_reviews_count' at 0x7f4b546639b0>\n",
      "<Element 'original_publication_year' at 0x7f4b54663a10>\n",
      "<Element 'original_publication_month' at 0x7f4b54663a70>\n",
      "<Element 'original_publication_day' at 0x7f4b54663ad0>\n",
      "<Element 'average_rating' at 0x7f4b54663b30>\n",
      "<Element 'best_book' at 0x7f4b54663b90>\n",
      "<Element 'id' at 0x7f4b54663ef0>\n",
      "<Element 'books_count' at 0x7f4b54663f50>\n",
      "<Element 'ratings_count' at 0x7f4b54663fb0>\n",
      "<Element 'text_reviews_count' at 0x7f4b54665050>\n",
      "<Element 'original_publication_year' at 0x7f4b546650b0>\n",
      "<Element 'original_publication_month' at 0x7f4b54665110>\n",
      "<Element 'original_publication_day' at 0x7f4b54665170>\n",
      "<Element 'average_rating' at 0x7f4b546651d0>\n",
      "<Element 'best_book' at 0x7f4b54665230>\n",
      "<Element 'id' at 0x7f4b54665590>\n",
      "<Element 'books_count' at 0x7f4b546655f0>\n",
      "<Element 'ratings_count' at 0x7f4b54665650>\n",
      "<Element 'text_reviews_count' at 0x7f4b546656b0>\n",
      "<Element 'original_publication_year' at 0x7f4b54665710>\n",
      "<Element 'original_publication_month' at 0x7f4b54665770>\n",
      "<Element 'original_publication_day' at 0x7f4b546657d0>\n",
      "<Element 'average_rating' at 0x7f4b54665830>\n",
      "<Element 'best_book' at 0x7f4b54665890>\n",
      "<Element 'id' at 0x7f4b54665c50>\n",
      "<Element 'books_count' at 0x7f4b54665cb0>\n",
      "<Element 'ratings_count' at 0x7f4b54665d10>\n",
      "<Element 'text_reviews_count' at 0x7f4b54665d70>\n",
      "<Element 'original_publication_year' at 0x7f4b54665dd0>\n",
      "<Element 'original_publication_month' at 0x7f4b54665e30>\n",
      "<Element 'original_publication_day' at 0x7f4b54665e90>\n",
      "<Element 'average_rating' at 0x7f4b54665ef0>\n",
      "<Element 'best_book' at 0x7f4b54665f50>\n",
      "<Element 'id' at 0x7f4b546682f0>\n",
      "<Element 'books_count' at 0x7f4b54668350>\n",
      "<Element 'ratings_count' at 0x7f4b546683b0>\n",
      "<Element 'text_reviews_count' at 0x7f4b54668410>\n",
      "<Element 'original_publication_year' at 0x7f4b54668470>\n",
      "<Element 'original_publication_month' at 0x7f4b546684d0>\n",
      "<Element 'original_publication_day' at 0x7f4b54668530>\n",
      "<Element 'average_rating' at 0x7f4b54668590>\n",
      "<Element 'best_book' at 0x7f4b546685f0>\n",
      "<Element 'id' at 0x7f4b546689b0>\n",
      "<Element 'books_count' at 0x7f4b3f8bbfb0>\n",
      "<Element 'ratings_count' at 0x7f4b54280d10>\n",
      "<Element 'text_reviews_count' at 0x7f4b3fbb5950>\n",
      "<Element 'original_publication_year' at 0x7f4b3fbb5470>\n",
      "<Element 'original_publication_month' at 0x7f4b54668a10>\n",
      "<Element 'original_publication_day' at 0x7f4b54668a70>\n",
      "<Element 'average_rating' at 0x7f4b54668ad0>\n",
      "<Element 'best_book' at 0x7f4b54668b30>\n",
      "<Element 'id' at 0x7f4b54668e90>\n",
      "<Element 'books_count' at 0x7f4b54668ef0>\n",
      "<Element 'ratings_count' at 0x7f4b54668f50>\n",
      "<Element 'text_reviews_count' at 0x7f4b54668fb0>\n",
      "<Element 'original_publication_year' at 0x7f4b5466b050>\n",
      "<Element 'original_publication_month' at 0x7f4b5466b0b0>\n",
      "<Element 'original_publication_day' at 0x7f4b5466b110>\n",
      "<Element 'average_rating' at 0x7f4b5466b170>\n",
      "<Element 'best_book' at 0x7f4b5466b1d0>\n",
      "<Element 'id' at 0x7f4b5466b530>\n",
      "<Element 'books_count' at 0x7f4b5466b590>\n",
      "<Element 'ratings_count' at 0x7f4b5466b5f0>\n",
      "<Element 'text_reviews_count' at 0x7f4b5466b650>\n",
      "<Element 'original_publication_year' at 0x7f4b5466b6b0>\n",
      "<Element 'original_publication_month' at 0x7f4b5466b710>\n",
      "<Element 'original_publication_day' at 0x7f4b5466b770>\n",
      "<Element 'average_rating' at 0x7f4b5466b7d0>\n",
      "<Element 'best_book' at 0x7f4b5466b830>\n",
      "<Element 'id' at 0x7f4b5466bb90>\n",
      "<Element 'books_count' at 0x7f4b5466bbf0>\n",
      "<Element 'ratings_count' at 0x7f4b5466bc50>\n",
      "<Element 'text_reviews_count' at 0x7f4b5466bcb0>\n",
      "<Element 'original_publication_year' at 0x7f4b5466bd10>\n",
      "<Element 'original_publication_month' at 0x7f4b5466bd70>\n",
      "<Element 'original_publication_day' at 0x7f4b5466bdd0>\n",
      "<Element 'average_rating' at 0x7f4b5466be30>\n",
      "<Element 'best_book' at 0x7f4b5466be90>\n",
      "<Element 'id' at 0x7f4b5465c290>\n",
      "<Element 'books_count' at 0x7f4b5465c2f0>\n",
      "<Element 'ratings_count' at 0x7f4b5465c350>\n",
      "<Element 'text_reviews_count' at 0x7f4b5465c3b0>\n",
      "<Element 'original_publication_year' at 0x7f4b5465c410>\n",
      "<Element 'original_publication_month' at 0x7f4b5465c470>\n",
      "<Element 'original_publication_day' at 0x7f4b5465c4d0>\n",
      "<Element 'average_rating' at 0x7f4b5465c530>\n",
      "<Element 'best_book' at 0x7f4b5465c590>\n",
      "<Element 'id' at 0x7f4b5465c8f0>\n",
      "<Element 'books_count' at 0x7f4b5465c950>\n",
      "<Element 'ratings_count' at 0x7f4b5465c9b0>\n",
      "<Element 'text_reviews_count' at 0x7f4b5465ca10>\n",
      "<Element 'original_publication_year' at 0x7f4b5465ca70>\n",
      "<Element 'original_publication_month' at 0x7f4b5465cad0>\n",
      "<Element 'original_publication_day' at 0x7f4b5465cb30>\n",
      "<Element 'average_rating' at 0x7f4b5465cb90>\n",
      "<Element 'best_book' at 0x7f4b5465cbf0>\n",
      "<Element 'id' at 0x7f4b5465cf50>\n",
      "<Element 'books_count' at 0x7f4b5465cfb0>\n",
      "<Element 'ratings_count' at 0x7f4b54716050>\n",
      "<Element 'text_reviews_count' at 0x7f4b547160b0>\n",
      "<Element 'original_publication_year' at 0x7f4b54716110>\n",
      "<Element 'original_publication_month' at 0x7f4b54716170>\n",
      "<Element 'original_publication_day' at 0x7f4b547161d0>\n",
      "<Element 'average_rating' at 0x7f4b54716230>\n",
      "<Element 'best_book' at 0x7f4b54716290>\n",
      "<Element 'id' at 0x7f4b54716650>\n",
      "<Element 'books_count' at 0x7f4b547166b0>\n",
      "<Element 'ratings_count' at 0x7f4b54716710>\n",
      "<Element 'text_reviews_count' at 0x7f4b54716770>\n",
      "<Element 'original_publication_year' at 0x7f4b547167d0>\n",
      "<Element 'original_publication_month' at 0x7f4b54716830>\n",
      "<Element 'original_publication_day' at 0x7f4b54716890>\n",
      "<Element 'average_rating' at 0x7f4b547168f0>\n",
      "<Element 'best_book' at 0x7f4b54716950>\n",
      "<Element 'id' at 0x7f4b54716cb0>\n",
      "<Element 'books_count' at 0x7f4b54716d10>\n",
      "<Element 'ratings_count' at 0x7f4b54716d70>\n",
      "<Element 'text_reviews_count' at 0x7f4b54716dd0>\n",
      "<Element 'original_publication_year' at 0x7f4b54716e30>\n",
      "<Element 'original_publication_month' at 0x7f4b54716e90>\n",
      "<Element 'original_publication_day' at 0x7f4b54716ef0>\n",
      "<Element 'average_rating' at 0x7f4b54716f50>\n",
      "<Element 'best_book' at 0x7f4b54716fb0>\n",
      "<Element 'id' at 0x7f4b547243b0>\n",
      "<Element 'books_count' at 0x7f4b54724410>\n",
      "<Element 'ratings_count' at 0x7f4b54724470>\n",
      "<Element 'text_reviews_count' at 0x7f4b547244d0>\n",
      "<Element 'original_publication_year' at 0x7f4b54724530>\n",
      "<Element 'original_publication_month' at 0x7f4b54724590>\n",
      "<Element 'original_publication_day' at 0x7f4b547245f0>\n",
      "<Element 'average_rating' at 0x7f4b54724650>\n",
      "<Element 'best_book' at 0x7f4b547246b0>\n"
     ]
    }
   ],
   "source": [
    "for child in root.findall('./search/results/work/'):\n",
    "    print(child)"
   ]
  },
  {
   "cell_type": "code",
   "execution_count": 239,
   "metadata": {
    "scrolled": true
   },
   "outputs": [
    {
     "name": "stdout",
     "output_type": "stream",
     "text": [
      "20\n"
     ]
    }
   ],
   "source": [
    "print(len(root.findall('./search/results/work/id')))"
   ]
  },
  {
   "cell_type": "code",
   "execution_count": null,
   "metadata": {
    "scrolled": true
   },
   "outputs": [],
   "source": []
  }
 ],
 "metadata": {
  "kernelspec": {
   "display_name": "Python 3",
   "language": "python",
   "name": "python3"
  },
  "language_info": {
   "codemirror_mode": {
    "name": "ipython",
    "version": 3
   },
   "file_extension": ".py",
   "mimetype": "text/x-python",
   "name": "python",
   "nbconvert_exporter": "python",
   "pygments_lexer": "ipython3",
   "version": "3.7.6"
  }
 },
 "nbformat": 4,
 "nbformat_minor": 4
}
